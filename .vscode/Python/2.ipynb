{
 "cells": [
  {
   "cell_type": "code",
   "execution_count": 1,
   "id": "d3599d6a",
   "metadata": {},
   "outputs": [
    {
     "name": "stdout",
     "output_type": "stream",
     "text": [
      "[1, 2, 3, 1]\n"
     ]
    }
   ],
   "source": [
    "a=[1,2,3]\n",
    "a.append(1)\n",
    "print(a)"
   ]
  },
  {
   "cell_type": "code",
   "execution_count": 2,
   "id": "25eafdd7",
   "metadata": {},
   "outputs": [
    {
     "ename": "AttributeError",
     "evalue": "'tuple' object has no attribute 'append'",
     "output_type": "error",
     "traceback": [
      "\u001b[1;31m---------------------------------------------------------------------------\u001b[0m",
      "\u001b[1;31mAttributeError\u001b[0m                            Traceback (most recent call last)",
      "Cell \u001b[1;32mIn[2], line 2\u001b[0m\n\u001b[0;32m      1\u001b[0m a\u001b[38;5;241m=\u001b[39m(\u001b[38;5;241m1\u001b[39m,\u001b[38;5;241m2\u001b[39m,\u001b[38;5;241m3\u001b[39m)\n\u001b[1;32m----> 2\u001b[0m \u001b[43ma\u001b[49m\u001b[38;5;241;43m.\u001b[39;49m\u001b[43mappend\u001b[49m(\u001b[38;5;241m1\u001b[39m)\n\u001b[0;32m      3\u001b[0m \u001b[38;5;28mprint\u001b[39m(a)\n",
      "\u001b[1;31mAttributeError\u001b[0m: 'tuple' object has no attribute 'append'"
     ]
    }
   ],
   "source": [
    "a=(1,2,3)\n",
    "a.append(1)\n",
    "print(a)"
   ]
  },
  {
   "cell_type": "code",
   "execution_count": null,
   "id": "7a9bf06a",
   "metadata": {},
   "outputs": [],
   "source": [
    "# Example usage of ord() function\n",
    "char = 'A'\n",
    "ascii_value = ord(char)\n",
    "print(f\"The ASCII value of '{char}' is {ascii_value}\")"
   ]
  },
  {
   "cell_type": "code",
   "execution_count": 17,
   "id": "ef4e0ff4",
   "metadata": {},
   "outputs": [
    {
     "name": "stdout",
     "output_type": "stream",
     "text": [
      "a>b\n"
     ]
    }
   ],
   "source": [
    "a = int(input(\"Enter the Value of a: \"))\n",
    "b = int(input(\"Enter the value of b: \"))\n",
    "if a>b:\n",
    "    print(\"a>b\")\n",
    "else:\n",
    "    print(\"b>a\")"
   ]
  },
  {
   "cell_type": "code",
   "execution_count": null,
   "id": "47898743",
   "metadata": {},
   "outputs": [
    {
     "name": "stdout",
     "output_type": "stream",
     "text": [
      "raining is yes\n"
     ]
    }
   ],
   "source": [
    "rain=bool(input())\n",
    "if(rain==True):\n",
    "    print(\"raining is yes\")\n",
    "    \n",
    "else:\n",
    "    print(\"No rain\")"
   ]
  },
  {
   "cell_type": "code",
   "execution_count": 16,
   "id": "9659a08d",
   "metadata": {},
   "outputs": [
    {
     "name": "stdout",
     "output_type": "stream",
     "text": [
      "GOOD MORNING SIR\n"
     ]
    }
   ],
   "source": [
    "name=input(\"Enter Name: \")\n",
    "if name==\"Vasudha\":\n",
    "    print(\"Good Morning Vasudha Mam\")\n",
    "elif(name==\"Harsh\"):\n",
    "    print(\"GOOD MORNING SIR\")\n",
    "else: \n",
    "    print(\"Satsriakal\")"
   ]
  },
  {
   "cell_type": "code",
   "execution_count": 21,
   "id": "9f49bcc9",
   "metadata": {},
   "outputs": [
    {
     "name": "stdout",
     "output_type": "stream",
     "text": [
      "Hello\n",
      "Hello\n",
      "Hello\n",
      "Hello\n",
      "Hello\n"
     ]
    }
   ],
   "source": [
    "i=0\n",
    "while(i<5):\n",
    "    print(\"Hello\")\n",
    "    i=i+1"
   ]
  },
  {
   "cell_type": "code",
   "execution_count": 24,
   "id": "9f691166",
   "metadata": {},
   "outputs": [
    {
     "name": "stdout",
     "output_type": "stream",
     "text": [
      "1 2 3 4 5 6 7 8 9 10 "
     ]
    }
   ],
   "source": [
    "x=1\n",
    "while x<=10:\n",
    "    print(x,end=\" \")\n",
    "    x=x+1\n"
   ]
  },
  {
   "cell_type": "code",
   "execution_count": 25,
   "id": "b61652cb",
   "metadata": {},
   "outputs": [
    {
     "name": "stdout",
     "output_type": "stream",
     "text": [
      "The sum is  10\n"
     ]
    }
   ],
   "source": [
    "n=int(input(\"Enter a number: \"))\n",
    "s=0\n",
    "i=1\n",
    "while(i<n):\n",
    "    s=s+i\n",
    "    i=i+1\n",
    "print(\"The sum is \",s)\n",
    " \n"
   ]
  },
  {
   "cell_type": "code",
   "execution_count": null,
   "id": "e1d54d62",
   "metadata": {},
   "outputs": [
    {
     "name": "stdout",
     "output_type": "stream",
     "text": [
      "The value at 0 is  H\n",
      "The value at 1 is  a\n",
      "The value at 2 is  r\n",
      "The value at 3 is  s\n",
      "The value at 4 is  h\n"
     ]
    },
    {
     "ename": "",
     "evalue": "",
     "output_type": "error",
     "traceback": [
      "\u001b[1;31mThe Kernel crashed while executing code in the current cell or a previous cell. \n",
      "\u001b[1;31mPlease review the code in the cell(s) to identify a possible cause of the failure. \n",
      "\u001b[1;31mClick <a href='https://aka.ms/vscodeJupyterKernelCrash'>here</a> for more info. \n",
      "\u001b[1;31mView Jupyter <a href='command:jupyter.viewOutput'>log</a> for further details."
     ]
    }
   ],
   "source": [
    "s=\"Harsh\"\n",
    "i=0\n",
    "for x in s:\n",
    "    print(\"The value at\",i,\"is \", x)\n",
    "    i=i+1"
   ]
  },
  {
   "cell_type": "code",
   "execution_count": 3,
   "id": "44192845",
   "metadata": {},
   "outputs": [
    {
     "name": "stdout",
     "output_type": "stream",
     "text": [
      "998\n"
     ]
    }
   ],
   "source": [
    "balance=int(input(\"Enter balance: \"))\n",
    "withdrawl=int(input(\"Enter withdrawl amount: \"))\n",
    "if withdrawl>balance:\n",
    "    print(\"Insufficient Balance\")\n",
    "elif(balance%100!=0):\n",
    "    print(\"Enter amount in multiples of 100\")\n",
    "else:\n",
    "    amount=balance-withdrawl\n",
    "    print(amount)"
   ]
  },
  {
   "cell_type": "code",
   "execution_count": null,
   "id": "8574a310",
   "metadata": {},
   "outputs": [],
   "source": []
  }
 ],
 "metadata": {
  "kernelspec": {
   "display_name": "Python 3",
   "language": "python",
   "name": "python3"
  },
  "language_info": {
   "codemirror_mode": {
    "name": "ipython",
    "version": 3
   },
   "file_extension": ".py",
   "mimetype": "text/x-python",
   "name": "python",
   "nbconvert_exporter": "python",
   "pygments_lexer": "ipython3",
   "version": "3.12.5"
  }
 },
 "nbformat": 4,
 "nbformat_minor": 5
}
