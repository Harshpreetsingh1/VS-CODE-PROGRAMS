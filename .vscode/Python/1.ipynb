{
 "cells": [
  {
   "cell_type": "code",
   "execution_count": 3,
   "id": "d8fbd9fa",
   "metadata": {},
   "outputs": [
    {
     "name": "stdout",
     "output_type": "stream",
     "text": [
      "13\n",
      "13\n",
      "-3\n",
      "0\n",
      "40\n",
      "-41\n"
     ]
    }
   ],
   "source": [
    "x=5\n",
    "y=8\n",
    "print(x+y)\n",
    "\n",
    "print(x^y)\n",
    "print(x-y)\n",
    "print(x&y)\n",
    "print(x*y)\n",
    "print(~(x*y))"
   ]
  },
  {
   "cell_type": "code",
   "execution_count": 15,
   "id": "0b7c4630",
   "metadata": {},
   "outputs": [
    {
     "name": "stdout",
     "output_type": "stream",
     "text": [
      "Hello World\n"
     ]
    }
   ],
   "source": [
    "print(\"Hello World\")"
   ]
  },
  {
   "cell_type": "code",
   "execution_count": 16,
   "id": "55f1bbaf",
   "metadata": {},
   "outputs": [
    {
     "name": "stdout",
     "output_type": "stream",
     "text": [
      "The sum is  9\n"
     ]
    }
   ],
   "source": [
    "a=int(input(\"Enter Value of a \\n\"))\n",
    "b=int(input(\"Enter Value of b \\n\"))\n",
    "c=a+b\n",
    "print(\"The sum is \",a+b)"
   ]
  },
  {
   "cell_type": "code",
   "execution_count": 17,
   "id": "5c47c61b",
   "metadata": {},
   "outputs": [
    {
     "name": "stdout",
     "output_type": "stream",
     "text": [
      "4.3\n"
     ]
    }
   ],
   "source": [
    "x=2\n",
    "y=2.3\n",
    "print(x+y)"
   ]
  },
  {
   "cell_type": "code",
   "execution_count": 18,
   "id": "8d7b43ca",
   "metadata": {},
   "outputs": [
    {
     "name": "stdout",
     "output_type": "stream",
     "text": [
      "4.6\n"
     ]
    }
   ],
   "source": [
    "x=2.3\n",
    "y=2.3\n",
    "print(x+y)"
   ]
  },
  {
   "cell_type": "code",
   "execution_count": 19,
   "id": "289a4c48",
   "metadata": {},
   "outputs": [
    {
     "ename": "TypeError",
     "evalue": "unsupported operand type(s) for +: 'int' and 'str'",
     "output_type": "error",
     "traceback": [
      "\u001b[1;31m---------------------------------------------------------------------------\u001b[0m",
      "\u001b[1;31mTypeError\u001b[0m                                 Traceback (most recent call last)",
      "Cell \u001b[1;32mIn[19], line 3\u001b[0m\n\u001b[0;32m      1\u001b[0m x\u001b[38;5;241m=\u001b[39m\u001b[38;5;241m2\u001b[39m\n\u001b[0;32m      2\u001b[0m y\u001b[38;5;241m=\u001b[39m\u001b[38;5;124m\"\u001b[39m\u001b[38;5;124m2\u001b[39m\u001b[38;5;124m\"\u001b[39m\n\u001b[1;32m----> 3\u001b[0m \u001b[38;5;28mprint\u001b[39m(\u001b[43mx\u001b[49m\u001b[38;5;241;43m+\u001b[39;49m\u001b[43my\u001b[49m)\n",
      "\u001b[1;31mTypeError\u001b[0m: unsupported operand type(s) for +: 'int' and 'str'"
     ]
    }
   ],
   "source": [
    "x=2\n",
    "y=\"2\"\n",
    "print(x+y)"
   ]
  },
  {
   "cell_type": "code",
   "execution_count": null,
   "id": "12d17153",
   "metadata": {},
   "outputs": [
    {
     "name": "stdout",
     "output_type": "stream",
     "text": [
      "23\n"
     ]
    },
    {
     "ename": "TypeError",
     "evalue": "unsupported operand type(s) for -: 'str' and 'str'",
     "output_type": "error",
     "traceback": [
      "\u001b[1;31m---------------------------------------------------------------------------\u001b[0m",
      "\u001b[1;31mTypeError\u001b[0m                                 Traceback (most recent call last)",
      "Cell \u001b[1;32mIn[2], line 5\u001b[0m\n\u001b[0;32m      2\u001b[0m y\u001b[38;5;241m=\u001b[39m\u001b[38;5;124m\"\u001b[39m\u001b[38;5;124m3\u001b[39m\u001b[38;5;124m\"\u001b[39m\n\u001b[0;32m      3\u001b[0m \u001b[38;5;28mprint\u001b[39m(x\u001b[38;5;241m+\u001b[39my)\n\u001b[1;32m----> 5\u001b[0m \u001b[38;5;28mprint\u001b[39m(\u001b[43mx\u001b[49m\u001b[38;5;241;43m-\u001b[39;49m\u001b[43my\u001b[49m)\n\u001b[0;32m      6\u001b[0m \u001b[38;5;28mprint\u001b[39m(x\u001b[38;5;241m&\u001b[39my)\n\u001b[0;32m      7\u001b[0m \u001b[38;5;28mprint\u001b[39m(x\u001b[38;5;241m*\u001b[39my)\n",
      "\u001b[1;31mTypeError\u001b[0m: unsupported operand type(s) for -: 'str' and 'str'"
     ]
    }
   ],
   "source": [
    "x=\"2\"\n",
    "y=\"3\"\n",
    "print(x+y)"
   ]
  },
  {
   "cell_type": "code",
   "execution_count": 21,
   "id": "b521d60c",
   "metadata": {},
   "outputs": [
    {
     "name": "stdout",
     "output_type": "stream",
     "text": [
      "3\n"
     ]
    }
   ],
   "source": [
    "x=2\n",
    "y=bool(3)\n",
    "print(x+y)"
   ]
  },
  {
   "cell_type": "code",
   "execution_count": 22,
   "id": "15cc29f8",
   "metadata": {},
   "outputs": [
    {
     "ename": "TypeError",
     "evalue": "can only concatenate str (not \"bool\") to str",
     "output_type": "error",
     "traceback": [
      "\u001b[1;31m---------------------------------------------------------------------------\u001b[0m",
      "\u001b[1;31mTypeError\u001b[0m                                 Traceback (most recent call last)",
      "Cell \u001b[1;32mIn[22], line 3\u001b[0m\n\u001b[0;32m      1\u001b[0m x\u001b[38;5;241m=\u001b[39m\u001b[38;5;124m\"\u001b[39m\u001b[38;5;124m2\u001b[39m\u001b[38;5;124m\"\u001b[39m\n\u001b[0;32m      2\u001b[0m y\u001b[38;5;241m=\u001b[39m\u001b[38;5;28mbool\u001b[39m(\u001b[38;5;241m3\u001b[39m)\n\u001b[1;32m----> 3\u001b[0m \u001b[38;5;28mprint\u001b[39m(\u001b[43mx\u001b[49m\u001b[38;5;241;43m+\u001b[39;49m\u001b[43my\u001b[49m)\n",
      "\u001b[1;31mTypeError\u001b[0m: can only concatenate str (not \"bool\") to str"
     ]
    }
   ],
   "source": [
    "x=\"2\"\n",
    "y=bool(3)\n",
    "print(x+y)"
   ]
  },
  {
   "cell_type": "code",
   "execution_count": 23,
   "id": "44ac4546",
   "metadata": {},
   "outputs": [
    {
     "name": "stdout",
     "output_type": "stream",
     "text": [
      "2True\n"
     ]
    }
   ],
   "source": [
    "x=\"2\"\n",
    "y=str(bool(3))\n",
    "print(x+y)"
   ]
  },
  {
   "cell_type": "code",
   "execution_count": 24,
   "id": "245699e8",
   "metadata": {},
   "outputs": [
    {
     "name": "stdout",
     "output_type": "stream",
     "text": [
      "2(3+0j)\n"
     ]
    }
   ],
   "source": [
    "x=\"2\"\n",
    "y=str(complex(3))\n",
    "print(x+y)"
   ]
  },
  {
   "cell_type": "code",
   "execution_count": 25,
   "id": "a7d8d600",
   "metadata": {},
   "outputs": [
    {
     "name": "stdout",
     "output_type": "stream",
     "text": [
      "HELOOO\n"
     ]
    }
   ],
   "source": [
    "print(\"HELOOO\")"
   ]
  },
  {
   "cell_type": "code",
   "execution_count": 26,
   "id": "4997a43a",
   "metadata": {},
   "outputs": [
    {
     "name": "stdout",
     "output_type": "stream",
     "text": [
      "HELLOOOOO\n"
     ]
    }
   ],
   "source": [
    "print(\"HELLOOOOO\")"
   ]
  },
  {
   "cell_type": "code",
   "execution_count": 27,
   "id": "7ffff20e",
   "metadata": {},
   "outputs": [
    {
     "name": "stdout",
     "output_type": "stream",
     "text": [
      "68\n",
      "13\n",
      "Division:  4.25\n",
      "Floor Division:  4\n",
      "Remainder:  1\n"
     ]
    }
   ],
   "source": [
    "x=17\n",
    "y=4\n",
    "print(x*y)\n",
    "print(x-y)\n",
    "print(\"Division: \",x/y)\n",
    "print(\"Floor Division: \",x//y)\n",
    "print(\"Remainder: \",x%y)\n"
   ]
  },
  {
   "cell_type": "code",
   "execution_count": 28,
   "id": "e4721300",
   "metadata": {},
   "outputs": [
    {
     "name": "stdout",
     "output_type": "stream",
     "text": [
      "2 is older\n"
     ]
    }
   ],
   "source": [
    "age1=20\n",
    "age2=25\n",
    "if(age1>age2):\n",
    "    print(\"1 is older\")\n",
    "\n",
    "else:\n",
    "    print(\"2 is older\")"
   ]
  },
  {
   "cell_type": "code",
   "execution_count": 29,
   "id": "fc6b0ab7",
   "metadata": {},
   "outputs": [
    {
     "name": "stdout",
     "output_type": "stream",
     "text": [
      "Passed\n"
     ]
    }
   ],
   "source": [
    "score=95\n",
    "if(score>=40):\n",
    "    print(\"Passed\")\n",
    "elif(score==100):\n",
    "    print(\"Perfect \") "
   ]
  },
  {
   "cell_type": "code",
   "execution_count": 30,
   "id": "3379c494",
   "metadata": {},
   "outputs": [
    {
     "name": "stdout",
     "output_type": "stream",
     "text": [
      "8\n"
     ]
    }
   ],
   "source": [
    "x=5\n",
    "x+=3\n",
    "print(x)"
   ]
  },
  {
   "cell_type": "code",
   "execution_count": 31,
   "id": "0fba4597",
   "metadata": {},
   "outputs": [
    {
     "name": "stdout",
     "output_type": "stream",
     "text": [
      "6\n"
     ]
    }
   ],
   "source": [
    "a=10\n",
    "a*=2\n",
    "a%=7\n",
    "print(a)"
   ]
  },
  {
   "cell_type": "code",
   "execution_count": 32,
   "id": "b5c27864",
   "metadata": {},
   "outputs": [
    {
     "name": "stdout",
     "output_type": "stream",
     "text": [
      "4\n",
      "5\n",
      "1\n",
      "10\n",
      "2\n"
     ]
    }
   ],
   "source": [
    "a=5\n",
    "b=4\n",
    "print(a&b)\n",
    "print(a|b)\n",
    "print(a^b)\n",
    "print(a<<1)\n",
    "print(a>>1)"
   ]
  },
  {
   "cell_type": "code",
   "execution_count": 33,
   "id": "3364ebab",
   "metadata": {},
   "outputs": [
    {
     "name": "stdout",
     "output_type": "stream",
     "text": [
      "625\n"
     ]
    }
   ],
   "source": [
    "print(5**4)"
   ]
  },
  {
   "cell_type": "code",
   "execution_count": 35,
   "id": "9a032f85",
   "metadata": {},
   "outputs": [
    {
     "name": "stdout",
     "output_type": "stream",
     "text": [
      "5\n",
      "[1, 2, 3]\n",
      "[1, 2, 3, 4, 5]\n"
     ]
    }
   ],
   "source": [
    "list1 =[1,2,3,4,5]\n",
    "print(list1[-1])\n",
    "print(list1[0:3])\n",
    "print(list1[0:5])"
   ]
  }
 ],
 "metadata": {
  "kernelspec": {
   "display_name": "Python 3",
   "language": "python",
   "name": "python3"
  },
  "language_info": {
   "codemirror_mode": {
    "name": "ipython",
    "version": 3
   },
   "file_extension": ".py",
   "mimetype": "text/x-python",
   "name": "python",
   "nbconvert_exporter": "python",
   "pygments_lexer": "ipython3",
   "version": "3.12.5"
  }
 },
 "nbformat": 4,
 "nbformat_minor": 5
}
